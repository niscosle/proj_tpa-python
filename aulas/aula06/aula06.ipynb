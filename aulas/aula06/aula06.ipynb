{
 "cells": [
  {
   "cell_type": "markdown",
   "metadata": {},
   "source": [
    "# Manipulação de strings com python"
   ]
  },
  {
   "cell_type": "markdown",
   "metadata": {},
   "source": [
    ">Uma variável primaria de texto é chamada de char ou caracter, possibilitando o armazenamento de 8 bit de memória.Quando necessitamos de um conjunto de caracteres utilizamos um objeto, ou variáveis compostas no caso da maioria das linguagens chamada de string.Vamos ver como se aplica"
   ]
  },
  {
   "cell_type": "code",
   "execution_count": 135,
   "metadata": {},
   "outputs": [
    {
     "name": "stdout",
     "output_type": "stream",
     "text": [
      "Boa tarde a todos\n",
      "Boa tarde\n"
     ]
    }
   ],
   "source": [
    "frase = \"Boa tarde a todos\"\n",
    "print(frase)\n",
    "saudacao = frase[0:9]\n",
    "print(saudacao)"
   ]
  },
  {
   "cell_type": "code",
   "execution_count": 136,
   "metadata": {},
   "outputs": [
    {
     "name": "stdout",
     "output_type": "stream",
     "text": [
      "<class 'str'>\n",
      "<class 'str'>\n"
     ]
    }
   ],
   "source": [
    "print(type(frase))\n",
    "print(type(saudacao))"
   ]
  },
  {
   "cell_type": "code",
   "execution_count": 137,
   "metadata": {},
   "outputs": [
    {
     "name": "stdout",
     "output_type": "stream",
     "text": [
      "18\n",
      "10\n"
     ]
    }
   ],
   "source": [
    "print(frase.count(''))\n",
    "print(saudacao.count(''))"
   ]
  },
  {
   "cell_type": "code",
   "execution_count": 138,
   "metadata": {},
   "outputs": [
    {
     "name": "stdout",
     "output_type": "stream",
     "text": [
      "17\n",
      "9\n"
     ]
    }
   ],
   "source": [
    "print(len(frase))\n",
    "print(len(saudacao))"
   ]
  },
  {
   "cell_type": "code",
   "execution_count": 139,
   "metadata": {},
   "outputs": [
    {
     "name": "stdout",
     "output_type": "stream",
     "text": [
      "Boa tarde galerinha\n",
      "Boa noite\n"
     ]
    }
   ],
   "source": [
    "frase = frase.replace('a todos','galerinha')\n",
    "print(frase)\n",
    "saudacao = saudacao.replace('tarde', 'noite')\n",
    "print(saudacao)"
   ]
  },
  {
   "cell_type": "code",
   "execution_count": 140,
   "metadata": {},
   "outputs": [
    {
     "name": "stdout",
     "output_type": "stream",
     "text": [
      "['B', 'o', 'a', ' ', 't', 'a', 'r', 'd', 'e', ' ', 'g', 'a', 'l', 'e', 'r', 'i', 'n', 'h', 'a']\n"
     ]
    }
   ],
   "source": [
    "frase = [i for i in frase]\n",
    "print(frase)"
   ]
  },
  {
   "cell_type": "code",
   "execution_count": 141,
   "metadata": {},
   "outputs": [
    {
     "name": "stdout",
     "output_type": "stream",
     "text": [
      "B\n",
      "o\n",
      "a\n",
      " \n",
      "t\n",
      "a\n",
      "r\n",
      "d\n",
      "e\n",
      " \n",
      "g\n",
      "a\n",
      "l\n",
      "e\n",
      "r\n",
      "i\n",
      "n\n",
      "h\n",
      "a\n"
     ]
    }
   ],
   "source": [
    "for x in frase:\n",
    "    print(x)"
   ]
  },
  {
   "cell_type": "markdown",
   "metadata": {},
   "source": [
    "## Exercise 1"
   ]
  },
  {
   "cell_type": "markdown",
   "metadata": {},
   "source": [
    "> Faça um código para seguinte frase: \"Sabia que o sabiá sabia assobiar\" repartição por espaços, depois disso faça um print format para visualizar crie cada palavra em uma coluna separada."
   ]
  },
  {
   "cell_type": "code",
   "execution_count": 142,
   "metadata": {},
   "outputs": [
    {
     "name": "stdout",
     "output_type": "stream",
     "text": [
      "33\n",
      "Sabia que o sabiá sabia assobiar\n",
      "['Sabia', 'que', 'o', 'sabiá', 'sabia', 'assobiar']\n",
      "S q o s s a \n",
      "a u   a a s \n",
      "b e   b b s \n",
      "i     i i o \n",
      "a     á a b \n",
      "          i \n",
      "          a \n",
      "          r \n"
     ]
    }
   ],
   "source": [
    "frase2 = \"Sabia que o sabiá sabia assobiar\"\n",
    "print(frase2.count(''))\n",
    "print(frase2.format(''))\n",
    "palavras = frase2.split()\n",
    "print(palavras)\n",
    "\n",
    "for i in range(max(len(x)for x in palavras)):\n",
    "    for y in palavras:\n",
    "        print(y[i] if i < len(y) else ' ', end=' ')\n",
    "    \n",
    "    print()\n"
   ]
  },
  {
   "cell_type": "markdown",
   "metadata": {},
   "source": [
    "# Introdução a Numpy"
   ]
  },
  {
   "cell_type": "markdown",
   "metadata": {},
   "source": [
    ">Numpy é uma biblioteca python para desenvolvimento de matrizes\n",
    ">Tem por objetivos facilitar"
   ]
  },
  {
   "cell_type": "code",
   "execution_count": 1,
   "metadata": {},
   "outputs": [
    {
     "name": "stdout",
     "output_type": "stream",
     "text": [
      "[1 2 3]\n"
     ]
    }
   ],
   "source": [
    "import numpy as np\n",
    "a = np.array([1,2,3])\n",
    "print(a)"
   ]
  },
  {
   "cell_type": "code",
   "execution_count": 2,
   "metadata": {},
   "outputs": [
    {
     "name": "stdout",
     "output_type": "stream",
     "text": [
      "[[1 2 3]\n",
      " [4 5 6]]\n"
     ]
    }
   ],
   "source": [
    "b = np.array([(1,2,3),(4,5,6)])\n",
    "print(b)"
   ]
  },
  {
   "cell_type": "code",
   "execution_count": null,
   "metadata": {},
   "outputs": [],
   "source": [
    "c = np.ones((3,3))\n",
    "print(c)"
   ]
  },
  {
   "cell_type": "code",
   "execution_count": null,
   "metadata": {},
   "outputs": [],
   "source": []
  }
 ],
 "metadata": {
  "kernelspec": {
   "display_name": "Python 3",
   "language": "python",
   "name": "python3"
  },
  "language_info": {
   "codemirror_mode": {
    "name": "ipython",
    "version": 3
   },
   "file_extension": ".py",
   "mimetype": "text/x-python",
   "name": "python",
   "nbconvert_exporter": "python",
   "pygments_lexer": "ipython3",
   "version": "3.12.2"
  }
 },
 "nbformat": 4,
 "nbformat_minor": 2
}
